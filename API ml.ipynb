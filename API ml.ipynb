{
 "cells": [
  {
   "cell_type": "markdown",
   "metadata": {},
   "source": [
    "# Document"
   ]
  },
  {
   "cell_type": "markdown",
   "metadata": {},
   "source": [
    "DATA API = https://covidtracking.com/data/api/"
   ]
  },
  {
   "cell_type": "markdown",
   "metadata": {},
   "source": [
    "REST API URL = https://api.covidtracking.com/v1/us/daily.json\n"
   ]
  },
  {
   "cell_type": "markdown",
   "metadata": {},
   "source": [
    "---"
   ]
  },
  {
   "cell_type": "markdown",
   "metadata": {},
   "source": [
    "### Importing library"
   ]
  },
  {
   "cell_type": "code",
   "execution_count": 1,
   "metadata": {},
   "outputs": [],
   "source": [
    "import pandas as pd\n",
    "import numpy as np \n",
    "import matplotlib.pyplot as plt \n",
    "import seaborn as sns\n",
    "import requests\n",
    "import matplotlib.pyplot as plt"
   ]
  },
  {
   "cell_type": "markdown",
   "metadata": {},
   "source": [
    "### Exploring and Wrangling data "
   ]
  },
  {
   "cell_type": "code",
   "execution_count": 2,
   "metadata": {},
   "outputs": [
    {
     "data": {
      "text/plain": [
       "{'date': 20210307,\n",
       " 'states': 56,\n",
       " 'positive': 28756489,\n",
       " 'negative': 74582825,\n",
       " 'pending': 11808,\n",
       " 'hospitalizedCurrently': 40199,\n",
       " 'hospitalizedCumulative': 776361,\n",
       " 'inIcuCurrently': 8134,\n",
       " 'inIcuCumulative': 45475,\n",
       " 'onVentilatorCurrently': 2802,\n",
       " 'onVentilatorCumulative': 4281,\n",
       " 'dateChecked': '2021-03-07T24:00:00Z',\n",
       " 'death': 515151,\n",
       " 'hospitalized': 776361,\n",
       " 'totalTestResults': 363825123,\n",
       " 'lastModified': '2021-03-07T24:00:00Z',\n",
       " 'recovered': None,\n",
       " 'total': 0,\n",
       " 'posNeg': 0,\n",
       " 'deathIncrease': 842,\n",
       " 'hospitalizedIncrease': 726,\n",
       " 'negativeIncrease': 131835,\n",
       " 'positiveIncrease': 41835,\n",
       " 'totalTestResultsIncrease': 1170059,\n",
       " 'hash': 'a80d0063822e251249fd9a44730c49cb23defd83'}"
      ]
     },
     "execution_count": 2,
     "metadata": {},
     "output_type": "execute_result"
    }
   ],
   "source": [
    "url = 'https://api.covidtracking.com/v1/us/daily.json'\n",
    "r = requests.get(url)\n",
    "j = r.json()\n",
    "j[0]"
   ]
  },
  {
   "cell_type": "code",
   "execution_count": 3,
   "metadata": {},
   "outputs": [
    {
     "data": {
      "text/html": [
       "<div>\n",
       "<style scoped>\n",
       "    .dataframe tbody tr th:only-of-type {\n",
       "        vertical-align: middle;\n",
       "    }\n",
       "\n",
       "    .dataframe tbody tr th {\n",
       "        vertical-align: top;\n",
       "    }\n",
       "\n",
       "    .dataframe thead th {\n",
       "        text-align: right;\n",
       "    }\n",
       "</style>\n",
       "<table border=\"1\" class=\"dataframe\">\n",
       "  <thead>\n",
       "    <tr style=\"text-align: right;\">\n",
       "      <th></th>\n",
       "      <th>date</th>\n",
       "      <th>states</th>\n",
       "      <th>positive</th>\n",
       "      <th>negative</th>\n",
       "      <th>pending</th>\n",
       "      <th>hospitalizedCurrently</th>\n",
       "      <th>hospitalizedCumulative</th>\n",
       "      <th>inIcuCurrently</th>\n",
       "      <th>inIcuCumulative</th>\n",
       "      <th>onVentilatorCurrently</th>\n",
       "      <th>...</th>\n",
       "      <th>lastModified</th>\n",
       "      <th>recovered</th>\n",
       "      <th>total</th>\n",
       "      <th>posNeg</th>\n",
       "      <th>deathIncrease</th>\n",
       "      <th>hospitalizedIncrease</th>\n",
       "      <th>negativeIncrease</th>\n",
       "      <th>positiveIncrease</th>\n",
       "      <th>totalTestResultsIncrease</th>\n",
       "      <th>hash</th>\n",
       "    </tr>\n",
       "  </thead>\n",
       "  <tbody>\n",
       "    <tr>\n",
       "      <th>419</th>\n",
       "      <td>20200113</td>\n",
       "      <td>1</td>\n",
       "      <td>NaN</td>\n",
       "      <td>NaN</td>\n",
       "      <td>NaN</td>\n",
       "      <td>NaN</td>\n",
       "      <td>NaN</td>\n",
       "      <td>NaN</td>\n",
       "      <td>NaN</td>\n",
       "      <td>NaN</td>\n",
       "      <td>...</td>\n",
       "      <td>2020-01-13T24:00:00Z</td>\n",
       "      <td>None</td>\n",
       "      <td>0</td>\n",
       "      <td>0</td>\n",
       "      <td>0</td>\n",
       "      <td>0</td>\n",
       "      <td>0</td>\n",
       "      <td>0</td>\n",
       "      <td>0</td>\n",
       "      <td>5672debf187b183735be63f6bd85834ead0047ff</td>\n",
       "    </tr>\n",
       "    <tr>\n",
       "      <th>418</th>\n",
       "      <td>20200114</td>\n",
       "      <td>1</td>\n",
       "      <td>0.0</td>\n",
       "      <td>NaN</td>\n",
       "      <td>NaN</td>\n",
       "      <td>NaN</td>\n",
       "      <td>NaN</td>\n",
       "      <td>NaN</td>\n",
       "      <td>NaN</td>\n",
       "      <td>NaN</td>\n",
       "      <td>...</td>\n",
       "      <td>2020-01-14T24:00:00Z</td>\n",
       "      <td>None</td>\n",
       "      <td>0</td>\n",
       "      <td>0</td>\n",
       "      <td>0</td>\n",
       "      <td>0</td>\n",
       "      <td>0</td>\n",
       "      <td>0</td>\n",
       "      <td>0</td>\n",
       "      <td>fe399466a3dfbe0221a18ed5cacb39a3882d72f8</td>\n",
       "    </tr>\n",
       "    <tr>\n",
       "      <th>417</th>\n",
       "      <td>20200115</td>\n",
       "      <td>1</td>\n",
       "      <td>0.0</td>\n",
       "      <td>NaN</td>\n",
       "      <td>NaN</td>\n",
       "      <td>NaN</td>\n",
       "      <td>NaN</td>\n",
       "      <td>NaN</td>\n",
       "      <td>NaN</td>\n",
       "      <td>NaN</td>\n",
       "      <td>...</td>\n",
       "      <td>2020-01-15T24:00:00Z</td>\n",
       "      <td>None</td>\n",
       "      <td>0</td>\n",
       "      <td>0</td>\n",
       "      <td>0</td>\n",
       "      <td>0</td>\n",
       "      <td>0</td>\n",
       "      <td>0</td>\n",
       "      <td>0</td>\n",
       "      <td>8a449023413eea473277416e9e30ae126c6af047</td>\n",
       "    </tr>\n",
       "    <tr>\n",
       "      <th>416</th>\n",
       "      <td>20200116</td>\n",
       "      <td>1</td>\n",
       "      <td>0.0</td>\n",
       "      <td>NaN</td>\n",
       "      <td>NaN</td>\n",
       "      <td>NaN</td>\n",
       "      <td>NaN</td>\n",
       "      <td>NaN</td>\n",
       "      <td>NaN</td>\n",
       "      <td>NaN</td>\n",
       "      <td>...</td>\n",
       "      <td>2020-01-16T24:00:00Z</td>\n",
       "      <td>None</td>\n",
       "      <td>0</td>\n",
       "      <td>0</td>\n",
       "      <td>0</td>\n",
       "      <td>0</td>\n",
       "      <td>0</td>\n",
       "      <td>0</td>\n",
       "      <td>0</td>\n",
       "      <td>4c0f2ea879eefec1a18a93bcd8a382ea56cd452d</td>\n",
       "    </tr>\n",
       "    <tr>\n",
       "      <th>415</th>\n",
       "      <td>20200117</td>\n",
       "      <td>1</td>\n",
       "      <td>0.0</td>\n",
       "      <td>NaN</td>\n",
       "      <td>NaN</td>\n",
       "      <td>NaN</td>\n",
       "      <td>NaN</td>\n",
       "      <td>NaN</td>\n",
       "      <td>NaN</td>\n",
       "      <td>NaN</td>\n",
       "      <td>...</td>\n",
       "      <td>2020-01-17T24:00:00Z</td>\n",
       "      <td>None</td>\n",
       "      <td>0</td>\n",
       "      <td>0</td>\n",
       "      <td>0</td>\n",
       "      <td>0</td>\n",
       "      <td>0</td>\n",
       "      <td>0</td>\n",
       "      <td>0</td>\n",
       "      <td>5fd7ed7fb0f83565ea0aaaf5ff6104e5860be2d6</td>\n",
       "    </tr>\n",
       "    <tr>\n",
       "      <th>...</th>\n",
       "      <td>...</td>\n",
       "      <td>...</td>\n",
       "      <td>...</td>\n",
       "      <td>...</td>\n",
       "      <td>...</td>\n",
       "      <td>...</td>\n",
       "      <td>...</td>\n",
       "      <td>...</td>\n",
       "      <td>...</td>\n",
       "      <td>...</td>\n",
       "      <td>...</td>\n",
       "      <td>...</td>\n",
       "      <td>...</td>\n",
       "      <td>...</td>\n",
       "      <td>...</td>\n",
       "      <td>...</td>\n",
       "      <td>...</td>\n",
       "      <td>...</td>\n",
       "      <td>...</td>\n",
       "      <td>...</td>\n",
       "      <td>...</td>\n",
       "    </tr>\n",
       "    <tr>\n",
       "      <th>4</th>\n",
       "      <td>20210303</td>\n",
       "      <td>56</td>\n",
       "      <td>28520365.0</td>\n",
       "      <td>73857281.0</td>\n",
       "      <td>11778.0</td>\n",
       "      <td>45462.0</td>\n",
       "      <td>770821.0</td>\n",
       "      <td>9359.0</td>\n",
       "      <td>45214.0</td>\n",
       "      <td>3094.0</td>\n",
       "      <td>...</td>\n",
       "      <td>2021-03-03T24:00:00Z</td>\n",
       "      <td>None</td>\n",
       "      <td>0</td>\n",
       "      <td>0</td>\n",
       "      <td>2449</td>\n",
       "      <td>2172</td>\n",
       "      <td>267001</td>\n",
       "      <td>66836</td>\n",
       "      <td>1406795</td>\n",
       "      <td>fef6c425d2b773a9221fe353f13852f3e4a4bfb0</td>\n",
       "    </tr>\n",
       "    <tr>\n",
       "      <th>3</th>\n",
       "      <td>20210304</td>\n",
       "      <td>56</td>\n",
       "      <td>28585852.0</td>\n",
       "      <td>74035238.0</td>\n",
       "      <td>12405.0</td>\n",
       "      <td>44172.0</td>\n",
       "      <td>772351.0</td>\n",
       "      <td>8970.0</td>\n",
       "      <td>45293.0</td>\n",
       "      <td>2973.0</td>\n",
       "      <td>...</td>\n",
       "      <td>2021-03-04T24:00:00Z</td>\n",
       "      <td>None</td>\n",
       "      <td>0</td>\n",
       "      <td>0</td>\n",
       "      <td>1743</td>\n",
       "      <td>1530</td>\n",
       "      <td>177957</td>\n",
       "      <td>65487</td>\n",
       "      <td>1590984</td>\n",
       "      <td>5c549ad30f9abf48dc5de36d20fa707014be1ff3</td>\n",
       "    </tr>\n",
       "    <tr>\n",
       "      <th>2</th>\n",
       "      <td>20210305</td>\n",
       "      <td>56</td>\n",
       "      <td>28654639.0</td>\n",
       "      <td>74307155.0</td>\n",
       "      <td>12213.0</td>\n",
       "      <td>42541.0</td>\n",
       "      <td>775132.0</td>\n",
       "      <td>8634.0</td>\n",
       "      <td>45373.0</td>\n",
       "      <td>2889.0</td>\n",
       "      <td>...</td>\n",
       "      <td>2021-03-05T24:00:00Z</td>\n",
       "      <td>None</td>\n",
       "      <td>0</td>\n",
       "      <td>0</td>\n",
       "      <td>2221</td>\n",
       "      <td>2781</td>\n",
       "      <td>271917</td>\n",
       "      <td>68787</td>\n",
       "      <td>1744417</td>\n",
       "      <td>724844c01659d0103801c57c0f72bf8cc8ab025c</td>\n",
       "    </tr>\n",
       "    <tr>\n",
       "      <th>1</th>\n",
       "      <td>20210306</td>\n",
       "      <td>56</td>\n",
       "      <td>28714654.0</td>\n",
       "      <td>74450990.0</td>\n",
       "      <td>11783.0</td>\n",
       "      <td>41401.0</td>\n",
       "      <td>775635.0</td>\n",
       "      <td>8409.0</td>\n",
       "      <td>45453.0</td>\n",
       "      <td>2811.0</td>\n",
       "      <td>...</td>\n",
       "      <td>2021-03-06T24:00:00Z</td>\n",
       "      <td>None</td>\n",
       "      <td>0</td>\n",
       "      <td>0</td>\n",
       "      <td>1680</td>\n",
       "      <td>503</td>\n",
       "      <td>143835</td>\n",
       "      <td>60015</td>\n",
       "      <td>1430992</td>\n",
       "      <td>dae5e558c24adb86686bbd58c08cce5f610b8bb0</td>\n",
       "    </tr>\n",
       "    <tr>\n",
       "      <th>0</th>\n",
       "      <td>20210307</td>\n",
       "      <td>56</td>\n",
       "      <td>28756489.0</td>\n",
       "      <td>74582825.0</td>\n",
       "      <td>11808.0</td>\n",
       "      <td>40199.0</td>\n",
       "      <td>776361.0</td>\n",
       "      <td>8134.0</td>\n",
       "      <td>45475.0</td>\n",
       "      <td>2802.0</td>\n",
       "      <td>...</td>\n",
       "      <td>2021-03-07T24:00:00Z</td>\n",
       "      <td>None</td>\n",
       "      <td>0</td>\n",
       "      <td>0</td>\n",
       "      <td>842</td>\n",
       "      <td>726</td>\n",
       "      <td>131835</td>\n",
       "      <td>41835</td>\n",
       "      <td>1170059</td>\n",
       "      <td>a80d0063822e251249fd9a44730c49cb23defd83</td>\n",
       "    </tr>\n",
       "  </tbody>\n",
       "</table>\n",
       "<p>420 rows × 25 columns</p>\n",
       "</div>"
      ],
      "text/plain": [
       "         date  states    positive    negative  pending  hospitalizedCurrently  \\\n",
       "419  20200113       1         NaN         NaN      NaN                    NaN   \n",
       "418  20200114       1         0.0         NaN      NaN                    NaN   \n",
       "417  20200115       1         0.0         NaN      NaN                    NaN   \n",
       "416  20200116       1         0.0         NaN      NaN                    NaN   \n",
       "415  20200117       1         0.0         NaN      NaN                    NaN   \n",
       "..        ...     ...         ...         ...      ...                    ...   \n",
       "4    20210303      56  28520365.0  73857281.0  11778.0                45462.0   \n",
       "3    20210304      56  28585852.0  74035238.0  12405.0                44172.0   \n",
       "2    20210305      56  28654639.0  74307155.0  12213.0                42541.0   \n",
       "1    20210306      56  28714654.0  74450990.0  11783.0                41401.0   \n",
       "0    20210307      56  28756489.0  74582825.0  11808.0                40199.0   \n",
       "\n",
       "     hospitalizedCumulative  inIcuCurrently  inIcuCumulative  \\\n",
       "419                     NaN             NaN              NaN   \n",
       "418                     NaN             NaN              NaN   \n",
       "417                     NaN             NaN              NaN   \n",
       "416                     NaN             NaN              NaN   \n",
       "415                     NaN             NaN              NaN   \n",
       "..                      ...             ...              ...   \n",
       "4                  770821.0          9359.0          45214.0   \n",
       "3                  772351.0          8970.0          45293.0   \n",
       "2                  775132.0          8634.0          45373.0   \n",
       "1                  775635.0          8409.0          45453.0   \n",
       "0                  776361.0          8134.0          45475.0   \n",
       "\n",
       "     onVentilatorCurrently  ...          lastModified recovered  total  \\\n",
       "419                    NaN  ...  2020-01-13T24:00:00Z      None      0   \n",
       "418                    NaN  ...  2020-01-14T24:00:00Z      None      0   \n",
       "417                    NaN  ...  2020-01-15T24:00:00Z      None      0   \n",
       "416                    NaN  ...  2020-01-16T24:00:00Z      None      0   \n",
       "415                    NaN  ...  2020-01-17T24:00:00Z      None      0   \n",
       "..                     ...  ...                   ...       ...    ...   \n",
       "4                   3094.0  ...  2021-03-03T24:00:00Z      None      0   \n",
       "3                   2973.0  ...  2021-03-04T24:00:00Z      None      0   \n",
       "2                   2889.0  ...  2021-03-05T24:00:00Z      None      0   \n",
       "1                   2811.0  ...  2021-03-06T24:00:00Z      None      0   \n",
       "0                   2802.0  ...  2021-03-07T24:00:00Z      None      0   \n",
       "\n",
       "     posNeg  deathIncrease hospitalizedIncrease negativeIncrease  \\\n",
       "419       0              0                    0                0   \n",
       "418       0              0                    0                0   \n",
       "417       0              0                    0                0   \n",
       "416       0              0                    0                0   \n",
       "415       0              0                    0                0   \n",
       "..      ...            ...                  ...              ...   \n",
       "4         0           2449                 2172           267001   \n",
       "3         0           1743                 1530           177957   \n",
       "2         0           2221                 2781           271917   \n",
       "1         0           1680                  503           143835   \n",
       "0         0            842                  726           131835   \n",
       "\n",
       "     positiveIncrease  totalTestResultsIncrease  \\\n",
       "419                 0                         0   \n",
       "418                 0                         0   \n",
       "417                 0                         0   \n",
       "416                 0                         0   \n",
       "415                 0                         0   \n",
       "..                ...                       ...   \n",
       "4               66836                   1406795   \n",
       "3               65487                   1590984   \n",
       "2               68787                   1744417   \n",
       "1               60015                   1430992   \n",
       "0               41835                   1170059   \n",
       "\n",
       "                                         hash  \n",
       "419  5672debf187b183735be63f6bd85834ead0047ff  \n",
       "418  fe399466a3dfbe0221a18ed5cacb39a3882d72f8  \n",
       "417  8a449023413eea473277416e9e30ae126c6af047  \n",
       "416  4c0f2ea879eefec1a18a93bcd8a382ea56cd452d  \n",
       "415  5fd7ed7fb0f83565ea0aaaf5ff6104e5860be2d6  \n",
       "..                                        ...  \n",
       "4    fef6c425d2b773a9221fe353f13852f3e4a4bfb0  \n",
       "3    5c549ad30f9abf48dc5de36d20fa707014be1ff3  \n",
       "2    724844c01659d0103801c57c0f72bf8cc8ab025c  \n",
       "1    dae5e558c24adb86686bbd58c08cce5f610b8bb0  \n",
       "0    a80d0063822e251249fd9a44730c49cb23defd83  \n",
       "\n",
       "[420 rows x 25 columns]"
      ]
     },
     "execution_count": 3,
     "metadata": {},
     "output_type": "execute_result"
    }
   ],
   "source": [
    "df = pd.DataFrame(j)\n",
    "covidtotals = df[::-1]\n",
    "covidtotals"
   ]
  },
  {
   "cell_type": "markdown",
   "metadata": {},
   "source": [
    "Coverting data in date column from 20200113 to 2020-01-13 which is easier to understand "
   ]
  },
  {
   "cell_type": "code",
   "execution_count": 4,
   "metadata": {},
   "outputs": [],
   "source": [
    "x = str(covidtotals.date.values).split()\n",
    "x[0] = x[0][1:]\n",
    "x[-1] = x[-1][:-1]\n",
    "\n",
    "new=[]\n",
    "for i in range(len(x)):\n",
    "    c=0\n",
    "    k=''        \n",
    "    for j in range(len(x[i])):\n",
    "        \n",
    "        if c==4 or c==6:\n",
    "            k+='-'\n",
    "        k+= x[i][j]\n",
    "        c+=1\n",
    "    new.append(k)\n"
   ]
  },
  {
   "cell_type": "code",
   "execution_count": 5,
   "metadata": {},
   "outputs": [
    {
     "data": {
      "text/html": [
       "<div>\n",
       "<style scoped>\n",
       "    .dataframe tbody tr th:only-of-type {\n",
       "        vertical-align: middle;\n",
       "    }\n",
       "\n",
       "    .dataframe tbody tr th {\n",
       "        vertical-align: top;\n",
       "    }\n",
       "\n",
       "    .dataframe thead th {\n",
       "        text-align: right;\n",
       "    }\n",
       "</style>\n",
       "<table border=\"1\" class=\"dataframe\">\n",
       "  <thead>\n",
       "    <tr style=\"text-align: right;\">\n",
       "      <th></th>\n",
       "      <th>date</th>\n",
       "      <th>states</th>\n",
       "      <th>positive</th>\n",
       "      <th>negative</th>\n",
       "      <th>pending</th>\n",
       "      <th>hospitalizedCurrently</th>\n",
       "      <th>hospitalizedCumulative</th>\n",
       "      <th>inIcuCurrently</th>\n",
       "      <th>inIcuCumulative</th>\n",
       "      <th>onVentilatorCurrently</th>\n",
       "      <th>...</th>\n",
       "      <th>lastModified</th>\n",
       "      <th>recovered</th>\n",
       "      <th>total</th>\n",
       "      <th>posNeg</th>\n",
       "      <th>deathIncrease</th>\n",
       "      <th>hospitalizedIncrease</th>\n",
       "      <th>negativeIncrease</th>\n",
       "      <th>positiveIncrease</th>\n",
       "      <th>totalTestResultsIncrease</th>\n",
       "      <th>hash</th>\n",
       "    </tr>\n",
       "  </thead>\n",
       "  <tbody>\n",
       "    <tr>\n",
       "      <th>419</th>\n",
       "      <td>2020-01-13</td>\n",
       "      <td>1</td>\n",
       "      <td>NaN</td>\n",
       "      <td>NaN</td>\n",
       "      <td>NaN</td>\n",
       "      <td>NaN</td>\n",
       "      <td>NaN</td>\n",
       "      <td>NaN</td>\n",
       "      <td>NaN</td>\n",
       "      <td>NaN</td>\n",
       "      <td>...</td>\n",
       "      <td>2020-01-13T24:00:00Z</td>\n",
       "      <td>None</td>\n",
       "      <td>0</td>\n",
       "      <td>0</td>\n",
       "      <td>0</td>\n",
       "      <td>0</td>\n",
       "      <td>0</td>\n",
       "      <td>0</td>\n",
       "      <td>0</td>\n",
       "      <td>5672debf187b183735be63f6bd85834ead0047ff</td>\n",
       "    </tr>\n",
       "    <tr>\n",
       "      <th>418</th>\n",
       "      <td>2020-01-14</td>\n",
       "      <td>1</td>\n",
       "      <td>0.0</td>\n",
       "      <td>NaN</td>\n",
       "      <td>NaN</td>\n",
       "      <td>NaN</td>\n",
       "      <td>NaN</td>\n",
       "      <td>NaN</td>\n",
       "      <td>NaN</td>\n",
       "      <td>NaN</td>\n",
       "      <td>...</td>\n",
       "      <td>2020-01-14T24:00:00Z</td>\n",
       "      <td>None</td>\n",
       "      <td>0</td>\n",
       "      <td>0</td>\n",
       "      <td>0</td>\n",
       "      <td>0</td>\n",
       "      <td>0</td>\n",
       "      <td>0</td>\n",
       "      <td>0</td>\n",
       "      <td>fe399466a3dfbe0221a18ed5cacb39a3882d72f8</td>\n",
       "    </tr>\n",
       "    <tr>\n",
       "      <th>417</th>\n",
       "      <td>2020-01-15</td>\n",
       "      <td>1</td>\n",
       "      <td>0.0</td>\n",
       "      <td>NaN</td>\n",
       "      <td>NaN</td>\n",
       "      <td>NaN</td>\n",
       "      <td>NaN</td>\n",
       "      <td>NaN</td>\n",
       "      <td>NaN</td>\n",
       "      <td>NaN</td>\n",
       "      <td>...</td>\n",
       "      <td>2020-01-15T24:00:00Z</td>\n",
       "      <td>None</td>\n",
       "      <td>0</td>\n",
       "      <td>0</td>\n",
       "      <td>0</td>\n",
       "      <td>0</td>\n",
       "      <td>0</td>\n",
       "      <td>0</td>\n",
       "      <td>0</td>\n",
       "      <td>8a449023413eea473277416e9e30ae126c6af047</td>\n",
       "    </tr>\n",
       "    <tr>\n",
       "      <th>416</th>\n",
       "      <td>2020-01-16</td>\n",
       "      <td>1</td>\n",
       "      <td>0.0</td>\n",
       "      <td>NaN</td>\n",
       "      <td>NaN</td>\n",
       "      <td>NaN</td>\n",
       "      <td>NaN</td>\n",
       "      <td>NaN</td>\n",
       "      <td>NaN</td>\n",
       "      <td>NaN</td>\n",
       "      <td>...</td>\n",
       "      <td>2020-01-16T24:00:00Z</td>\n",
       "      <td>None</td>\n",
       "      <td>0</td>\n",
       "      <td>0</td>\n",
       "      <td>0</td>\n",
       "      <td>0</td>\n",
       "      <td>0</td>\n",
       "      <td>0</td>\n",
       "      <td>0</td>\n",
       "      <td>4c0f2ea879eefec1a18a93bcd8a382ea56cd452d</td>\n",
       "    </tr>\n",
       "    <tr>\n",
       "      <th>415</th>\n",
       "      <td>2020-01-17</td>\n",
       "      <td>1</td>\n",
       "      <td>0.0</td>\n",
       "      <td>NaN</td>\n",
       "      <td>NaN</td>\n",
       "      <td>NaN</td>\n",
       "      <td>NaN</td>\n",
       "      <td>NaN</td>\n",
       "      <td>NaN</td>\n",
       "      <td>NaN</td>\n",
       "      <td>...</td>\n",
       "      <td>2020-01-17T24:00:00Z</td>\n",
       "      <td>None</td>\n",
       "      <td>0</td>\n",
       "      <td>0</td>\n",
       "      <td>0</td>\n",
       "      <td>0</td>\n",
       "      <td>0</td>\n",
       "      <td>0</td>\n",
       "      <td>0</td>\n",
       "      <td>5fd7ed7fb0f83565ea0aaaf5ff6104e5860be2d6</td>\n",
       "    </tr>\n",
       "    <tr>\n",
       "      <th>...</th>\n",
       "      <td>...</td>\n",
       "      <td>...</td>\n",
       "      <td>...</td>\n",
       "      <td>...</td>\n",
       "      <td>...</td>\n",
       "      <td>...</td>\n",
       "      <td>...</td>\n",
       "      <td>...</td>\n",
       "      <td>...</td>\n",
       "      <td>...</td>\n",
       "      <td>...</td>\n",
       "      <td>...</td>\n",
       "      <td>...</td>\n",
       "      <td>...</td>\n",
       "      <td>...</td>\n",
       "      <td>...</td>\n",
       "      <td>...</td>\n",
       "      <td>...</td>\n",
       "      <td>...</td>\n",
       "      <td>...</td>\n",
       "      <td>...</td>\n",
       "    </tr>\n",
       "    <tr>\n",
       "      <th>4</th>\n",
       "      <td>2021-03-03</td>\n",
       "      <td>56</td>\n",
       "      <td>28520365.0</td>\n",
       "      <td>73857281.0</td>\n",
       "      <td>11778.0</td>\n",
       "      <td>45462.0</td>\n",
       "      <td>770821.0</td>\n",
       "      <td>9359.0</td>\n",
       "      <td>45214.0</td>\n",
       "      <td>3094.0</td>\n",
       "      <td>...</td>\n",
       "      <td>2021-03-03T24:00:00Z</td>\n",
       "      <td>None</td>\n",
       "      <td>0</td>\n",
       "      <td>0</td>\n",
       "      <td>2449</td>\n",
       "      <td>2172</td>\n",
       "      <td>267001</td>\n",
       "      <td>66836</td>\n",
       "      <td>1406795</td>\n",
       "      <td>fef6c425d2b773a9221fe353f13852f3e4a4bfb0</td>\n",
       "    </tr>\n",
       "    <tr>\n",
       "      <th>3</th>\n",
       "      <td>2021-03-04</td>\n",
       "      <td>56</td>\n",
       "      <td>28585852.0</td>\n",
       "      <td>74035238.0</td>\n",
       "      <td>12405.0</td>\n",
       "      <td>44172.0</td>\n",
       "      <td>772351.0</td>\n",
       "      <td>8970.0</td>\n",
       "      <td>45293.0</td>\n",
       "      <td>2973.0</td>\n",
       "      <td>...</td>\n",
       "      <td>2021-03-04T24:00:00Z</td>\n",
       "      <td>None</td>\n",
       "      <td>0</td>\n",
       "      <td>0</td>\n",
       "      <td>1743</td>\n",
       "      <td>1530</td>\n",
       "      <td>177957</td>\n",
       "      <td>65487</td>\n",
       "      <td>1590984</td>\n",
       "      <td>5c549ad30f9abf48dc5de36d20fa707014be1ff3</td>\n",
       "    </tr>\n",
       "    <tr>\n",
       "      <th>2</th>\n",
       "      <td>2021-03-05</td>\n",
       "      <td>56</td>\n",
       "      <td>28654639.0</td>\n",
       "      <td>74307155.0</td>\n",
       "      <td>12213.0</td>\n",
       "      <td>42541.0</td>\n",
       "      <td>775132.0</td>\n",
       "      <td>8634.0</td>\n",
       "      <td>45373.0</td>\n",
       "      <td>2889.0</td>\n",
       "      <td>...</td>\n",
       "      <td>2021-03-05T24:00:00Z</td>\n",
       "      <td>None</td>\n",
       "      <td>0</td>\n",
       "      <td>0</td>\n",
       "      <td>2221</td>\n",
       "      <td>2781</td>\n",
       "      <td>271917</td>\n",
       "      <td>68787</td>\n",
       "      <td>1744417</td>\n",
       "      <td>724844c01659d0103801c57c0f72bf8cc8ab025c</td>\n",
       "    </tr>\n",
       "    <tr>\n",
       "      <th>1</th>\n",
       "      <td>2021-03-06</td>\n",
       "      <td>56</td>\n",
       "      <td>28714654.0</td>\n",
       "      <td>74450990.0</td>\n",
       "      <td>11783.0</td>\n",
       "      <td>41401.0</td>\n",
       "      <td>775635.0</td>\n",
       "      <td>8409.0</td>\n",
       "      <td>45453.0</td>\n",
       "      <td>2811.0</td>\n",
       "      <td>...</td>\n",
       "      <td>2021-03-06T24:00:00Z</td>\n",
       "      <td>None</td>\n",
       "      <td>0</td>\n",
       "      <td>0</td>\n",
       "      <td>1680</td>\n",
       "      <td>503</td>\n",
       "      <td>143835</td>\n",
       "      <td>60015</td>\n",
       "      <td>1430992</td>\n",
       "      <td>dae5e558c24adb86686bbd58c08cce5f610b8bb0</td>\n",
       "    </tr>\n",
       "    <tr>\n",
       "      <th>0</th>\n",
       "      <td>2021-03-07</td>\n",
       "      <td>56</td>\n",
       "      <td>28756489.0</td>\n",
       "      <td>74582825.0</td>\n",
       "      <td>11808.0</td>\n",
       "      <td>40199.0</td>\n",
       "      <td>776361.0</td>\n",
       "      <td>8134.0</td>\n",
       "      <td>45475.0</td>\n",
       "      <td>2802.0</td>\n",
       "      <td>...</td>\n",
       "      <td>2021-03-07T24:00:00Z</td>\n",
       "      <td>None</td>\n",
       "      <td>0</td>\n",
       "      <td>0</td>\n",
       "      <td>842</td>\n",
       "      <td>726</td>\n",
       "      <td>131835</td>\n",
       "      <td>41835</td>\n",
       "      <td>1170059</td>\n",
       "      <td>a80d0063822e251249fd9a44730c49cb23defd83</td>\n",
       "    </tr>\n",
       "  </tbody>\n",
       "</table>\n",
       "<p>420 rows × 25 columns</p>\n",
       "</div>"
      ],
      "text/plain": [
       "           date  states    positive    negative  pending  \\\n",
       "419  2020-01-13       1         NaN         NaN      NaN   \n",
       "418  2020-01-14       1         0.0         NaN      NaN   \n",
       "417  2020-01-15       1         0.0         NaN      NaN   \n",
       "416  2020-01-16       1         0.0         NaN      NaN   \n",
       "415  2020-01-17       1         0.0         NaN      NaN   \n",
       "..          ...     ...         ...         ...      ...   \n",
       "4    2021-03-03      56  28520365.0  73857281.0  11778.0   \n",
       "3    2021-03-04      56  28585852.0  74035238.0  12405.0   \n",
       "2    2021-03-05      56  28654639.0  74307155.0  12213.0   \n",
       "1    2021-03-06      56  28714654.0  74450990.0  11783.0   \n",
       "0    2021-03-07      56  28756489.0  74582825.0  11808.0   \n",
       "\n",
       "     hospitalizedCurrently  hospitalizedCumulative  inIcuCurrently  \\\n",
       "419                    NaN                     NaN             NaN   \n",
       "418                    NaN                     NaN             NaN   \n",
       "417                    NaN                     NaN             NaN   \n",
       "416                    NaN                     NaN             NaN   \n",
       "415                    NaN                     NaN             NaN   \n",
       "..                     ...                     ...             ...   \n",
       "4                  45462.0                770821.0          9359.0   \n",
       "3                  44172.0                772351.0          8970.0   \n",
       "2                  42541.0                775132.0          8634.0   \n",
       "1                  41401.0                775635.0          8409.0   \n",
       "0                  40199.0                776361.0          8134.0   \n",
       "\n",
       "     inIcuCumulative  onVentilatorCurrently  ...          lastModified  \\\n",
       "419              NaN                    NaN  ...  2020-01-13T24:00:00Z   \n",
       "418              NaN                    NaN  ...  2020-01-14T24:00:00Z   \n",
       "417              NaN                    NaN  ...  2020-01-15T24:00:00Z   \n",
       "416              NaN                    NaN  ...  2020-01-16T24:00:00Z   \n",
       "415              NaN                    NaN  ...  2020-01-17T24:00:00Z   \n",
       "..               ...                    ...  ...                   ...   \n",
       "4            45214.0                 3094.0  ...  2021-03-03T24:00:00Z   \n",
       "3            45293.0                 2973.0  ...  2021-03-04T24:00:00Z   \n",
       "2            45373.0                 2889.0  ...  2021-03-05T24:00:00Z   \n",
       "1            45453.0                 2811.0  ...  2021-03-06T24:00:00Z   \n",
       "0            45475.0                 2802.0  ...  2021-03-07T24:00:00Z   \n",
       "\n",
       "    recovered  total  posNeg  deathIncrease hospitalizedIncrease  \\\n",
       "419      None      0       0              0                    0   \n",
       "418      None      0       0              0                    0   \n",
       "417      None      0       0              0                    0   \n",
       "416      None      0       0              0                    0   \n",
       "415      None      0       0              0                    0   \n",
       "..        ...    ...     ...            ...                  ...   \n",
       "4        None      0       0           2449                 2172   \n",
       "3        None      0       0           1743                 1530   \n",
       "2        None      0       0           2221                 2781   \n",
       "1        None      0       0           1680                  503   \n",
       "0        None      0       0            842                  726   \n",
       "\n",
       "    negativeIncrease  positiveIncrease  totalTestResultsIncrease  \\\n",
       "419                0                 0                         0   \n",
       "418                0                 0                         0   \n",
       "417                0                 0                         0   \n",
       "416                0                 0                         0   \n",
       "415                0                 0                         0   \n",
       "..               ...               ...                       ...   \n",
       "4             267001             66836                   1406795   \n",
       "3             177957             65487                   1590984   \n",
       "2             271917             68787                   1744417   \n",
       "1             143835             60015                   1430992   \n",
       "0             131835             41835                   1170059   \n",
       "\n",
       "                                         hash  \n",
       "419  5672debf187b183735be63f6bd85834ead0047ff  \n",
       "418  fe399466a3dfbe0221a18ed5cacb39a3882d72f8  \n",
       "417  8a449023413eea473277416e9e30ae126c6af047  \n",
       "416  4c0f2ea879eefec1a18a93bcd8a382ea56cd452d  \n",
       "415  5fd7ed7fb0f83565ea0aaaf5ff6104e5860be2d6  \n",
       "..                                        ...  \n",
       "4    fef6c425d2b773a9221fe353f13852f3e4a4bfb0  \n",
       "3    5c549ad30f9abf48dc5de36d20fa707014be1ff3  \n",
       "2    724844c01659d0103801c57c0f72bf8cc8ab025c  \n",
       "1    dae5e558c24adb86686bbd58c08cce5f610b8bb0  \n",
       "0    a80d0063822e251249fd9a44730c49cb23defd83  \n",
       "\n",
       "[420 rows x 25 columns]"
      ]
     },
     "execution_count": 5,
     "metadata": {},
     "output_type": "execute_result"
    }
   ],
   "source": [
    "covidtotals[\"date\"] = new\n",
    "covidtotals"
   ]
  },
  {
   "cell_type": "code",
   "execution_count": 6,
   "metadata": {},
   "outputs": [
    {
     "data": {
      "text/plain": [
       "(420, 25)"
      ]
     },
     "execution_count": 6,
     "metadata": {},
     "output_type": "execute_result"
    }
   ],
   "source": [
    "covidtotals.shape"
   ]
  },
  {
   "cell_type": "code",
   "execution_count": 7,
   "metadata": {},
   "outputs": [
    {
     "data": {
      "text/plain": [
       "420"
      ]
     },
     "execution_count": 7,
     "metadata": {},
     "output_type": "execute_result"
    }
   ],
   "source": [
    "covidtotals.date.nunique()"
   ]
  },
  {
   "cell_type": "code",
   "execution_count": 8,
   "metadata": {},
   "outputs": [
    {
     "data": {
      "text/plain": [
       "Index(['date', 'states', 'positive', 'negative', 'pending',\n",
       "       'hospitalizedCurrently', 'hospitalizedCumulative', 'inIcuCurrently',\n",
       "       'inIcuCumulative', 'onVentilatorCurrently', 'onVentilatorCumulative',\n",
       "       'dateChecked', 'death', 'hospitalized', 'totalTestResults',\n",
       "       'lastModified', 'recovered', 'total', 'posNeg', 'deathIncrease',\n",
       "       'hospitalizedIncrease', 'negativeIncrease', 'positiveIncrease',\n",
       "       'totalTestResultsIncrease', 'hash'],\n",
       "      dtype='object')"
      ]
     },
     "execution_count": 8,
     "metadata": {},
     "output_type": "execute_result"
    }
   ],
   "source": [
    "covidtotals.columns"
   ]
  },
  {
   "cell_type": "code",
   "execution_count": 9,
   "metadata": {},
   "outputs": [
    {
     "name": "stdout",
     "output_type": "stream",
     "text": [
      "<class 'pandas.core.frame.DataFrame'>\n",
      "RangeIndex: 420 entries, 419 to 0\n",
      "Data columns (total 25 columns):\n",
      " #   Column                    Non-Null Count  Dtype  \n",
      "---  ------                    --------------  -----  \n",
      " 0   date                      420 non-null    object \n",
      " 1   states                    420 non-null    int64  \n",
      " 2   positive                  419 non-null    float64\n",
      " 3   negative                  372 non-null    float64\n",
      " 4   pending                   369 non-null    float64\n",
      " 5   hospitalizedCurrently     356 non-null    float64\n",
      " 6   hospitalizedCumulative    369 non-null    float64\n",
      " 7   inIcuCurrently            347 non-null    float64\n",
      " 8   inIcuCumulative           348 non-null    float64\n",
      " 9   onVentilatorCurrently     348 non-null    float64\n",
      " 10  onVentilatorCumulative    341 non-null    float64\n",
      " 11  dateChecked               420 non-null    object \n",
      " 12  death                     392 non-null    float64\n",
      " 13  hospitalized              369 non-null    float64\n",
      " 14  totalTestResults          420 non-null    int64  \n",
      " 15  lastModified              420 non-null    object \n",
      " 16  recovered                 0 non-null      object \n",
      " 17  total                     420 non-null    int64  \n",
      " 18  posNeg                    420 non-null    int64  \n",
      " 19  deathIncrease             420 non-null    int64  \n",
      " 20  hospitalizedIncrease      420 non-null    int64  \n",
      " 21  negativeIncrease          420 non-null    int64  \n",
      " 22  positiveIncrease          420 non-null    int64  \n",
      " 23  totalTestResultsIncrease  420 non-null    int64  \n",
      " 24  hash                      420 non-null    object \n",
      "dtypes: float64(11), int64(9), object(5)\n",
      "memory usage: 82.2+ KB\n"
     ]
    }
   ],
   "source": [
    "covidtotals.info()"
   ]
  },
  {
   "cell_type": "code",
   "execution_count": 10,
   "metadata": {},
   "outputs": [
    {
     "data": {
      "text/plain": [
       "date                          0\n",
       "states                        0\n",
       "positive                      1\n",
       "negative                     48\n",
       "pending                      51\n",
       "hospitalizedCurrently        64\n",
       "hospitalizedCumulative       51\n",
       "inIcuCurrently               73\n",
       "inIcuCumulative              72\n",
       "onVentilatorCurrently        72\n",
       "onVentilatorCumulative       79\n",
       "dateChecked                   0\n",
       "death                        28\n",
       "hospitalized                 51\n",
       "totalTestResults              0\n",
       "lastModified                  0\n",
       "recovered                   420\n",
       "total                         0\n",
       "posNeg                        0\n",
       "deathIncrease                 0\n",
       "hospitalizedIncrease          0\n",
       "negativeIncrease              0\n",
       "positiveIncrease              0\n",
       "totalTestResultsIncrease      0\n",
       "hash                          0\n",
       "dtype: int64"
      ]
     },
     "execution_count": 10,
     "metadata": {},
     "output_type": "execute_result"
    }
   ],
   "source": [
    "covidtotals.isnull().sum()"
   ]
  },
  {
   "cell_type": "markdown",
   "metadata": {},
   "source": [
    "There is 1 missing value in positive column that we are interested so we fill the missing value by 0. Since the earilest stages of the data mostly are 0 values."
   ]
  },
  {
   "cell_type": "code",
   "execution_count": 11,
   "metadata": {},
   "outputs": [
    {
     "data": {
      "text/html": [
       "<div>\n",
       "<style scoped>\n",
       "    .dataframe tbody tr th:only-of-type {\n",
       "        vertical-align: middle;\n",
       "    }\n",
       "\n",
       "    .dataframe tbody tr th {\n",
       "        vertical-align: top;\n",
       "    }\n",
       "\n",
       "    .dataframe thead th {\n",
       "        text-align: right;\n",
       "    }\n",
       "</style>\n",
       "<table border=\"1\" class=\"dataframe\">\n",
       "  <thead>\n",
       "    <tr style=\"text-align: right;\">\n",
       "      <th></th>\n",
       "      <th>date</th>\n",
       "      <th>states</th>\n",
       "      <th>positive</th>\n",
       "      <th>negative</th>\n",
       "      <th>pending</th>\n",
       "      <th>hospitalizedCurrently</th>\n",
       "      <th>hospitalizedCumulative</th>\n",
       "      <th>inIcuCurrently</th>\n",
       "      <th>inIcuCumulative</th>\n",
       "      <th>onVentilatorCurrently</th>\n",
       "      <th>...</th>\n",
       "      <th>lastModified</th>\n",
       "      <th>recovered</th>\n",
       "      <th>total</th>\n",
       "      <th>posNeg</th>\n",
       "      <th>deathIncrease</th>\n",
       "      <th>hospitalizedIncrease</th>\n",
       "      <th>negativeIncrease</th>\n",
       "      <th>positiveIncrease</th>\n",
       "      <th>totalTestResultsIncrease</th>\n",
       "      <th>hash</th>\n",
       "    </tr>\n",
       "  </thead>\n",
       "  <tbody>\n",
       "    <tr>\n",
       "      <th>419</th>\n",
       "      <td>2020-01-13</td>\n",
       "      <td>1</td>\n",
       "      <td>0.000</td>\n",
       "      <td>NaN</td>\n",
       "      <td>NaN</td>\n",
       "      <td>NaN</td>\n",
       "      <td>NaN</td>\n",
       "      <td>NaN</td>\n",
       "      <td>NaN</td>\n",
       "      <td>NaN</td>\n",
       "      <td>...</td>\n",
       "      <td>2020-01-13T24:00:00Z</td>\n",
       "      <td>None</td>\n",
       "      <td>0</td>\n",
       "      <td>0</td>\n",
       "      <td>0</td>\n",
       "      <td>0</td>\n",
       "      <td>0</td>\n",
       "      <td>0</td>\n",
       "      <td>0</td>\n",
       "      <td>5672debf187b183735be63f6bd85834ead0047ff</td>\n",
       "    </tr>\n",
       "    <tr>\n",
       "      <th>418</th>\n",
       "      <td>2020-01-14</td>\n",
       "      <td>1</td>\n",
       "      <td>0.000</td>\n",
       "      <td>NaN</td>\n",
       "      <td>NaN</td>\n",
       "      <td>NaN</td>\n",
       "      <td>NaN</td>\n",
       "      <td>NaN</td>\n",
       "      <td>NaN</td>\n",
       "      <td>NaN</td>\n",
       "      <td>...</td>\n",
       "      <td>2020-01-14T24:00:00Z</td>\n",
       "      <td>None</td>\n",
       "      <td>0</td>\n",
       "      <td>0</td>\n",
       "      <td>0</td>\n",
       "      <td>0</td>\n",
       "      <td>0</td>\n",
       "      <td>0</td>\n",
       "      <td>0</td>\n",
       "      <td>fe399466a3dfbe0221a18ed5cacb39a3882d72f8</td>\n",
       "    </tr>\n",
       "    <tr>\n",
       "      <th>417</th>\n",
       "      <td>2020-01-15</td>\n",
       "      <td>1</td>\n",
       "      <td>0.000</td>\n",
       "      <td>NaN</td>\n",
       "      <td>NaN</td>\n",
       "      <td>NaN</td>\n",
       "      <td>NaN</td>\n",
       "      <td>NaN</td>\n",
       "      <td>NaN</td>\n",
       "      <td>NaN</td>\n",
       "      <td>...</td>\n",
       "      <td>2020-01-15T24:00:00Z</td>\n",
       "      <td>None</td>\n",
       "      <td>0</td>\n",
       "      <td>0</td>\n",
       "      <td>0</td>\n",
       "      <td>0</td>\n",
       "      <td>0</td>\n",
       "      <td>0</td>\n",
       "      <td>0</td>\n",
       "      <td>8a449023413eea473277416e9e30ae126c6af047</td>\n",
       "    </tr>\n",
       "    <tr>\n",
       "      <th>416</th>\n",
       "      <td>2020-01-16</td>\n",
       "      <td>1</td>\n",
       "      <td>0.000</td>\n",
       "      <td>NaN</td>\n",
       "      <td>NaN</td>\n",
       "      <td>NaN</td>\n",
       "      <td>NaN</td>\n",
       "      <td>NaN</td>\n",
       "      <td>NaN</td>\n",
       "      <td>NaN</td>\n",
       "      <td>...</td>\n",
       "      <td>2020-01-16T24:00:00Z</td>\n",
       "      <td>None</td>\n",
       "      <td>0</td>\n",
       "      <td>0</td>\n",
       "      <td>0</td>\n",
       "      <td>0</td>\n",
       "      <td>0</td>\n",
       "      <td>0</td>\n",
       "      <td>0</td>\n",
       "      <td>4c0f2ea879eefec1a18a93bcd8a382ea56cd452d</td>\n",
       "    </tr>\n",
       "    <tr>\n",
       "      <th>415</th>\n",
       "      <td>2020-01-17</td>\n",
       "      <td>1</td>\n",
       "      <td>0.000</td>\n",
       "      <td>NaN</td>\n",
       "      <td>NaN</td>\n",
       "      <td>NaN</td>\n",
       "      <td>NaN</td>\n",
       "      <td>NaN</td>\n",
       "      <td>NaN</td>\n",
       "      <td>NaN</td>\n",
       "      <td>...</td>\n",
       "      <td>2020-01-17T24:00:00Z</td>\n",
       "      <td>None</td>\n",
       "      <td>0</td>\n",
       "      <td>0</td>\n",
       "      <td>0</td>\n",
       "      <td>0</td>\n",
       "      <td>0</td>\n",
       "      <td>0</td>\n",
       "      <td>0</td>\n",
       "      <td>5fd7ed7fb0f83565ea0aaaf5ff6104e5860be2d6</td>\n",
       "    </tr>\n",
       "    <tr>\n",
       "      <th>...</th>\n",
       "      <td>...</td>\n",
       "      <td>...</td>\n",
       "      <td>...</td>\n",
       "      <td>...</td>\n",
       "      <td>...</td>\n",
       "      <td>...</td>\n",
       "      <td>...</td>\n",
       "      <td>...</td>\n",
       "      <td>...</td>\n",
       "      <td>...</td>\n",
       "      <td>...</td>\n",
       "      <td>...</td>\n",
       "      <td>...</td>\n",
       "      <td>...</td>\n",
       "      <td>...</td>\n",
       "      <td>...</td>\n",
       "      <td>...</td>\n",
       "      <td>...</td>\n",
       "      <td>...</td>\n",
       "      <td>...</td>\n",
       "      <td>...</td>\n",
       "    </tr>\n",
       "    <tr>\n",
       "      <th>4</th>\n",
       "      <td>2021-03-03</td>\n",
       "      <td>56</td>\n",
       "      <td>28520.365</td>\n",
       "      <td>73857281.0</td>\n",
       "      <td>11778.0</td>\n",
       "      <td>45462.0</td>\n",
       "      <td>770821.0</td>\n",
       "      <td>9359.0</td>\n",
       "      <td>45214.0</td>\n",
       "      <td>3094.0</td>\n",
       "      <td>...</td>\n",
       "      <td>2021-03-03T24:00:00Z</td>\n",
       "      <td>None</td>\n",
       "      <td>0</td>\n",
       "      <td>0</td>\n",
       "      <td>2449</td>\n",
       "      <td>2172</td>\n",
       "      <td>267001</td>\n",
       "      <td>66836</td>\n",
       "      <td>1406795</td>\n",
       "      <td>fef6c425d2b773a9221fe353f13852f3e4a4bfb0</td>\n",
       "    </tr>\n",
       "    <tr>\n",
       "      <th>3</th>\n",
       "      <td>2021-03-04</td>\n",
       "      <td>56</td>\n",
       "      <td>28585.852</td>\n",
       "      <td>74035238.0</td>\n",
       "      <td>12405.0</td>\n",
       "      <td>44172.0</td>\n",
       "      <td>772351.0</td>\n",
       "      <td>8970.0</td>\n",
       "      <td>45293.0</td>\n",
       "      <td>2973.0</td>\n",
       "      <td>...</td>\n",
       "      <td>2021-03-04T24:00:00Z</td>\n",
       "      <td>None</td>\n",
       "      <td>0</td>\n",
       "      <td>0</td>\n",
       "      <td>1743</td>\n",
       "      <td>1530</td>\n",
       "      <td>177957</td>\n",
       "      <td>65487</td>\n",
       "      <td>1590984</td>\n",
       "      <td>5c549ad30f9abf48dc5de36d20fa707014be1ff3</td>\n",
       "    </tr>\n",
       "    <tr>\n",
       "      <th>2</th>\n",
       "      <td>2021-03-05</td>\n",
       "      <td>56</td>\n",
       "      <td>28654.639</td>\n",
       "      <td>74307155.0</td>\n",
       "      <td>12213.0</td>\n",
       "      <td>42541.0</td>\n",
       "      <td>775132.0</td>\n",
       "      <td>8634.0</td>\n",
       "      <td>45373.0</td>\n",
       "      <td>2889.0</td>\n",
       "      <td>...</td>\n",
       "      <td>2021-03-05T24:00:00Z</td>\n",
       "      <td>None</td>\n",
       "      <td>0</td>\n",
       "      <td>0</td>\n",
       "      <td>2221</td>\n",
       "      <td>2781</td>\n",
       "      <td>271917</td>\n",
       "      <td>68787</td>\n",
       "      <td>1744417</td>\n",
       "      <td>724844c01659d0103801c57c0f72bf8cc8ab025c</td>\n",
       "    </tr>\n",
       "    <tr>\n",
       "      <th>1</th>\n",
       "      <td>2021-03-06</td>\n",
       "      <td>56</td>\n",
       "      <td>28714.654</td>\n",
       "      <td>74450990.0</td>\n",
       "      <td>11783.0</td>\n",
       "      <td>41401.0</td>\n",
       "      <td>775635.0</td>\n",
       "      <td>8409.0</td>\n",
       "      <td>45453.0</td>\n",
       "      <td>2811.0</td>\n",
       "      <td>...</td>\n",
       "      <td>2021-03-06T24:00:00Z</td>\n",
       "      <td>None</td>\n",
       "      <td>0</td>\n",
       "      <td>0</td>\n",
       "      <td>1680</td>\n",
       "      <td>503</td>\n",
       "      <td>143835</td>\n",
       "      <td>60015</td>\n",
       "      <td>1430992</td>\n",
       "      <td>dae5e558c24adb86686bbd58c08cce5f610b8bb0</td>\n",
       "    </tr>\n",
       "    <tr>\n",
       "      <th>0</th>\n",
       "      <td>2021-03-07</td>\n",
       "      <td>56</td>\n",
       "      <td>28756.489</td>\n",
       "      <td>74582825.0</td>\n",
       "      <td>11808.0</td>\n",
       "      <td>40199.0</td>\n",
       "      <td>776361.0</td>\n",
       "      <td>8134.0</td>\n",
       "      <td>45475.0</td>\n",
       "      <td>2802.0</td>\n",
       "      <td>...</td>\n",
       "      <td>2021-03-07T24:00:00Z</td>\n",
       "      <td>None</td>\n",
       "      <td>0</td>\n",
       "      <td>0</td>\n",
       "      <td>842</td>\n",
       "      <td>726</td>\n",
       "      <td>131835</td>\n",
       "      <td>41835</td>\n",
       "      <td>1170059</td>\n",
       "      <td>a80d0063822e251249fd9a44730c49cb23defd83</td>\n",
       "    </tr>\n",
       "  </tbody>\n",
       "</table>\n",
       "<p>420 rows × 25 columns</p>\n",
       "</div>"
      ],
      "text/plain": [
       "           date  states   positive    negative  pending  \\\n",
       "419  2020-01-13       1      0.000         NaN      NaN   \n",
       "418  2020-01-14       1      0.000         NaN      NaN   \n",
       "417  2020-01-15       1      0.000         NaN      NaN   \n",
       "416  2020-01-16       1      0.000         NaN      NaN   \n",
       "415  2020-01-17       1      0.000         NaN      NaN   \n",
       "..          ...     ...        ...         ...      ...   \n",
       "4    2021-03-03      56  28520.365  73857281.0  11778.0   \n",
       "3    2021-03-04      56  28585.852  74035238.0  12405.0   \n",
       "2    2021-03-05      56  28654.639  74307155.0  12213.0   \n",
       "1    2021-03-06      56  28714.654  74450990.0  11783.0   \n",
       "0    2021-03-07      56  28756.489  74582825.0  11808.0   \n",
       "\n",
       "     hospitalizedCurrently  hospitalizedCumulative  inIcuCurrently  \\\n",
       "419                    NaN                     NaN             NaN   \n",
       "418                    NaN                     NaN             NaN   \n",
       "417                    NaN                     NaN             NaN   \n",
       "416                    NaN                     NaN             NaN   \n",
       "415                    NaN                     NaN             NaN   \n",
       "..                     ...                     ...             ...   \n",
       "4                  45462.0                770821.0          9359.0   \n",
       "3                  44172.0                772351.0          8970.0   \n",
       "2                  42541.0                775132.0          8634.0   \n",
       "1                  41401.0                775635.0          8409.0   \n",
       "0                  40199.0                776361.0          8134.0   \n",
       "\n",
       "     inIcuCumulative  onVentilatorCurrently  ...          lastModified  \\\n",
       "419              NaN                    NaN  ...  2020-01-13T24:00:00Z   \n",
       "418              NaN                    NaN  ...  2020-01-14T24:00:00Z   \n",
       "417              NaN                    NaN  ...  2020-01-15T24:00:00Z   \n",
       "416              NaN                    NaN  ...  2020-01-16T24:00:00Z   \n",
       "415              NaN                    NaN  ...  2020-01-17T24:00:00Z   \n",
       "..               ...                    ...  ...                   ...   \n",
       "4            45214.0                 3094.0  ...  2021-03-03T24:00:00Z   \n",
       "3            45293.0                 2973.0  ...  2021-03-04T24:00:00Z   \n",
       "2            45373.0                 2889.0  ...  2021-03-05T24:00:00Z   \n",
       "1            45453.0                 2811.0  ...  2021-03-06T24:00:00Z   \n",
       "0            45475.0                 2802.0  ...  2021-03-07T24:00:00Z   \n",
       "\n",
       "    recovered  total  posNeg  deathIncrease hospitalizedIncrease  \\\n",
       "419      None      0       0              0                    0   \n",
       "418      None      0       0              0                    0   \n",
       "417      None      0       0              0                    0   \n",
       "416      None      0       0              0                    0   \n",
       "415      None      0       0              0                    0   \n",
       "..        ...    ...     ...            ...                  ...   \n",
       "4        None      0       0           2449                 2172   \n",
       "3        None      0       0           1743                 1530   \n",
       "2        None      0       0           2221                 2781   \n",
       "1        None      0       0           1680                  503   \n",
       "0        None      0       0            842                  726   \n",
       "\n",
       "    negativeIncrease  positiveIncrease  totalTestResultsIncrease  \\\n",
       "419                0                 0                         0   \n",
       "418                0                 0                         0   \n",
       "417                0                 0                         0   \n",
       "416                0                 0                         0   \n",
       "415                0                 0                         0   \n",
       "..               ...               ...                       ...   \n",
       "4             267001             66836                   1406795   \n",
       "3             177957             65487                   1590984   \n",
       "2             271917             68787                   1744417   \n",
       "1             143835             60015                   1430992   \n",
       "0             131835             41835                   1170059   \n",
       "\n",
       "                                         hash  \n",
       "419  5672debf187b183735be63f6bd85834ead0047ff  \n",
       "418  fe399466a3dfbe0221a18ed5cacb39a3882d72f8  \n",
       "417  8a449023413eea473277416e9e30ae126c6af047  \n",
       "416  4c0f2ea879eefec1a18a93bcd8a382ea56cd452d  \n",
       "415  5fd7ed7fb0f83565ea0aaaf5ff6104e5860be2d6  \n",
       "..                                        ...  \n",
       "4    fef6c425d2b773a9221fe353f13852f3e4a4bfb0  \n",
       "3    5c549ad30f9abf48dc5de36d20fa707014be1ff3  \n",
       "2    724844c01659d0103801c57c0f72bf8cc8ab025c  \n",
       "1    dae5e558c24adb86686bbd58c08cce5f610b8bb0  \n",
       "0    a80d0063822e251249fd9a44730c49cb23defd83  \n",
       "\n",
       "[420 rows x 25 columns]"
      ]
     },
     "execution_count": 11,
     "metadata": {},
     "output_type": "execute_result"
    }
   ],
   "source": [
    "covidtotals.positive.fillna(0, inplace=True)\n",
    "covidtotals['positive'] = covidtotals['positive'].apply(lambda x : x/1000) # divided by 1000 to make analysis easier\n",
    "covidtotals"
   ]
  },
  {
   "cell_type": "markdown",
   "metadata": {},
   "source": [
    "Relations between date and positive columns"
   ]
  },
  {
   "cell_type": "code",
   "execution_count": 12,
   "metadata": {},
   "outputs": [
    {
     "data": {
      "image/png": "[encoded data removed]",
      "text/plain": [
       "<Figure size 1440x504 with 1 Axes>"
      ]
     },
     "metadata": {
      "needs_background": "light"
     },
     "output_type": "display_data"
    }
   ],
   "source": [
    "from matplotlib.ticker import FormatStrFormatter\n",
    "plt.figure(figsize= (20,7))\n",
    "sns.lineplot(x='date', y= 'positive', data = covidtotals)\n",
    "a = np.linspace(0,419,20)\n",
    "plt.xticks(a, rotation = 'vertical')\n",
    "plt.gca().yaxis.set_major_formatter(FormatStrFormatter('%dk'))\n",
    "plt.show()\n"
   ]
  },
  {
   "cell_type": "markdown",
   "metadata": {},
   "source": [
    "### Scikit-learn\n"
   ]
  },
  {
   "cell_type": "markdown",
   "metadata": {},
   "source": [
    "Importing library"
   ]
  },
  {
   "cell_type": "code",
   "execution_count": 13,
   "metadata": {},
   "outputs": [],
   "source": [
    "import sklearn as sk\n",
    "from sklearn.model_selection import train_test_split\n",
    "from sklearn.preprocessing import PolynomialFeatures\n",
    "from sklearn.linear_model import LinearRegression"
   ]
  },
  {
   "cell_type": "markdown",
   "metadata": {},
   "source": [
    "We need to change the dates which are in the form of  ISO 8601 format to float type by estimating the totals of days of each dates so that we can implement the sckit-learn in this case which are Linear and Polynomial regression."
   ]
  },
  {
   "cell_type": "code",
   "execution_count": 14,
   "metadata": {},
   "outputs": [],
   "source": [
    "from datetime import datetime\n",
    "date_to_days = []\n",
    "for i in range(len(covidtotals.date)):\n",
    "    t = datetime.fromisoformat(covidtotals.date.values[i])  #coverts str to strftime type\n",
    "    year = float(t.strftime(\"%Y\"))*365\n",
    "    month = float(t.strftime(\"%m\"))*30\n",
    "    day = float(t.strftime(\"%d\"))\n",
    "    date_to_days.append(year+month+day)"
   ]
  },
  {
   "cell_type": "code",
   "execution_count": 15,
   "metadata": {},
   "outputs": [],
   "source": [
    "covidtotals[\"date\"] = date_to_days"
   ]
  },
  {
   "cell_type": "code",
   "execution_count": 16,
   "metadata": {},
   "outputs": [],
   "source": [
    "X=covidtotals[[\"date\"]] # convert 1D-array to 2D-array or use #X_train= X_train.values.reshape(-1, 1)\n",
    "                                                              #X_test = X_test.values.reshape(-1, 1)\n",
    "y=covidtotals[\"positive\"]"
   ]
  },
  {
   "cell_type": "markdown",
   "metadata": {},
   "source": [
    "Dividing the data into 2 parts which are traning data and testing data"
   ]
  },
  {
   "cell_type": "code",
   "execution_count": 17,
   "metadata": {},
   "outputs": [],
   "source": [
    "X_train, X_test, y_train, y_test = train_test_split(X,y,\n",
    "                                                    test_size=0.3, random_state=1) # traning set 70% and testing set 30% of data "
   ]
  },
  {
   "cell_type": "markdown",
   "metadata": {},
   "source": [
    "### Linear regression"
   ]
  },
  {
   "cell_type": "markdown",
   "metadata": {},
   "source": [
    "                                                The equation : y = a_0 + a_1*x + ε"
   ]
  },
  {
   "cell_type": "code",
   "execution_count": 18,
   "metadata": {},
   "outputs": [
    {
     "data": {
      "text/plain": [
       "LinearRegression()"
      ]
     },
     "execution_count": 18,
     "metadata": {},
     "output_type": "execute_result"
    }
   ],
   "source": [
    "Linear_model = LinearRegression()\n",
    "Linear_model"
   ]
  },
  {
   "cell_type": "code",
   "execution_count": 19,
   "metadata": {},
   "outputs": [
    {
     "data": {
      "text/plain": [
       "LinearRegression()"
      ]
     },
     "execution_count": 19,
     "metadata": {},
     "output_type": "execute_result"
    }
   ],
   "source": [
    "Linear_model.fit(X_train, y_train)"
   ]
  },
  {
   "cell_type": "code",
   "execution_count": 20,
   "metadata": {},
   "outputs": [
    {
     "data": {
      "text/plain": [
       "0.8383035422143409"
      ]
     },
     "execution_count": 20,
     "metadata": {},
     "output_type": "execute_result"
    }
   ],
   "source": [
    "Linear_model.score(X_train,y_train) # R-squared of training dataset"
   ]
  },
  {
   "cell_type": "code",
   "execution_count": 21,
   "metadata": {},
   "outputs": [
    {
     "data": {
      "text/plain": [
       "array([67.23021512])"
      ]
     },
     "execution_count": 21,
     "metadata": {},
     "output_type": "execute_result"
    }
   ],
   "source": [
    "Linear_model.coef_ #a_1"
   ]
  },
  {
   "cell_type": "code",
   "execution_count": 22,
   "metadata": {},
   "outputs": [
    {
     "data": {
      "text/plain": [
       "-49577577.508493364"
      ]
     },
     "execution_count": 22,
     "metadata": {},
     "output_type": "execute_result"
    }
   ],
   "source": [
    "Linear_model.intercept_ # a_0"
   ]
  },
  {
   "cell_type": "code",
   "execution_count": 23,
   "metadata": {},
   "outputs": [
    {
     "data": {
      "text/plain": [
       "0.840471340725784"
      ]
     },
     "execution_count": 23,
     "metadata": {},
     "output_type": "execute_result"
    }
   ],
   "source": [
    "Linear_model.score(X_test,y_test) # R-squared of testing dataset"
   ]
  },
  {
   "cell_type": "code",
   "execution_count": 24,
   "metadata": {},
   "outputs": [
    {
     "data": {
      "image/png": "[encoded data removed]",
      "text/plain": [
       "<Figure size 1440x504 with 1 Axes>"
      ]
     },
     "metadata": {
      "needs_background": "light"
     },
     "output_type": "display_data"
    }
   ],
   "source": [
    "plt.figure(figsize= (20,7))\n",
    "plt.plot(X, Linear_model.predict(X), color = \"red\")\n",
    "plt.plot(X, y)\n",
    "plt.title(\"Linear regression\")\n",
    "plt.ylabel(\"Positive cases\")\n",
    "plt.xlabel(\"Date\")\n",
    "plt.gca().yaxis.set_major_formatter(FormatStrFormatter('%dk'))\n",
    "# To change days xlabel to date xlabel\n",
    "days = [737400,737500,737600,737700]\n",
    "date = ['2020-03-10','2020-06-20','2020-10-01','2021-01-05']\n",
    "\n",
    "plt.xticks(days, date, rotation = \"vertical\")\n",
    "plt.show()"
   ]
  },
  {
   "cell_type": "markdown",
   "metadata": {},
   "source": [
    "From the above figure, we can see that the fitting of linear regression model is not good enough to predict the data due to the non-linear of the data"
   ]
  },
  {
   "cell_type": "code",
   "execution_count": 25,
   "metadata": {},
   "outputs": [
    {
     "data": {
      "text/plain": [
       "array([ 4706.14318737, 18152.18621155])"
      ]
     },
     "execution_count": 25,
     "metadata": {},
     "output_type": "execute_result"
    }
   ],
   "source": [
    "Linear_model.predict([[737500],[737700]]) # --> date(20-06-2020,05-01-2021)"
   ]
  },
  {
   "cell_type": "markdown",
   "metadata": {},
   "source": [
    "We can see it clearer by indexing some data to see the results from linear regression model, as a result, the value of positive cases of index 737500 and 737700 which are date 20-06-2020 and 05-01-2021 supposed to be around 2.2 millon cases and 21 million cases respectively, but they are  around 4.7 millon cases and 18 million cases."
   ]
  },
  {
   "cell_type": "markdown",
   "metadata": {},
   "source": [
    "### Polynomial regression"
   ]
  },
  {
   "cell_type": "markdown",
   "metadata": {},
   "source": [
    "                    The equation : y = a_0 + a_1*x + a_2*(x^2) + a_3*(x^3) + ... + a_n*(x^n) + ε    ; n= degree"
   ]
  },
  {
   "cell_type": "code",
   "execution_count": 26,
   "metadata": {},
   "outputs": [],
   "source": [
    "poly_model = PolynomialFeatures(degree=2) # y=a_0+a_1*x+a_2*(x^2)+ε "
   ]
  },
  {
   "cell_type": "code",
   "execution_count": 27,
   "metadata": {},
   "outputs": [
    {
     "data": {
      "text/plain": [
       "array([[ 1.,  5., 25.]])"
      ]
     },
     "execution_count": 27,
     "metadata": {},
     "output_type": "execute_result"
    }
   ],
   "source": [
    "poly_model.fit_transform([[5]]) # it means that with degree = 2 , the fit_transform process is that there will have 3(number of degrees + 1 ) values inside the array and the first one is 5 to the power of 0 /\n",
    "                                # the second value comes from 5 to the power of 2 and the last one is 5 to the power of 3."
   ]
  },
  {
   "cell_type": "code",
   "execution_count": 28,
   "metadata": {},
   "outputs": [
    {
     "data": {
      "text/html": [
       "<div>\n",
       "<style scoped>\n",
       "    .dataframe tbody tr th:only-of-type {\n",
       "        vertical-align: middle;\n",
       "    }\n",
       "\n",
       "    .dataframe tbody tr th {\n",
       "        vertical-align: top;\n",
       "    }\n",
       "\n",
       "    .dataframe thead th {\n",
       "        text-align: right;\n",
       "    }\n",
       "</style>\n",
       "<table border=\"1\" class=\"dataframe\">\n",
       "  <thead>\n",
       "    <tr style=\"text-align: right;\">\n",
       "      <th></th>\n",
       "      <th>date</th>\n",
       "    </tr>\n",
       "  </thead>\n",
       "  <tbody>\n",
       "    <tr>\n",
       "      <th>337</th>\n",
       "      <td>737424.0</td>\n",
       "    </tr>\n",
       "    <tr>\n",
       "      <th>34</th>\n",
       "      <td>737726.0</td>\n",
       "    </tr>\n",
       "    <tr>\n",
       "      <th>233</th>\n",
       "      <td>737527.0</td>\n",
       "    </tr>\n",
       "  </tbody>\n",
       "</table>\n",
       "</div>"
      ],
      "text/plain": [
       "         date\n",
       "337  737424.0\n",
       "34   737726.0\n",
       "233  737527.0"
      ]
     },
     "execution_count": 28,
     "metadata": {},
     "output_type": "execute_result"
    }
   ],
   "source": [
    "X_train[:3]"
   ]
  },
  {
   "cell_type": "code",
   "execution_count": 29,
   "metadata": {},
   "outputs": [],
   "source": [
    "X_train_poly = poly_model.fit_transform(X_train)\n",
    "X_test_poly  = poly_model.transform(X_test)"
   ]
  },
  {
   "cell_type": "code",
   "execution_count": 30,
   "metadata": {},
   "outputs": [],
   "source": [
    "Lr = LinearRegression()"
   ]
  },
  {
   "cell_type": "code",
   "execution_count": 31,
   "metadata": {},
   "outputs": [
    {
     "data": {
      "text/plain": [
       "LinearRegression()"
      ]
     },
     "execution_count": 31,
     "metadata": {},
     "output_type": "execute_result"
    }
   ],
   "source": [
    "Lr.fit(X_train_poly, y_train)"
   ]
  },
  {
   "cell_type": "code",
   "execution_count": 32,
   "metadata": {},
   "outputs": [
    {
     "data": {
      "text/plain": [
       "0.9854851111664827"
      ]
     },
     "execution_count": 32,
     "metadata": {},
     "output_type": "execute_result"
    }
   ],
   "source": [
    "Lr.score(X_train_poly, y_train) #R-squared of trainging data"
   ]
  },
  {
   "cell_type": "markdown",
   "metadata": {},
   "source": [
    "Obviously, R-squared from polynomial model, which is around 98 percent, is higher than linear regression model which is only around 84 percent."
   ]
  },
  {
   "cell_type": "code",
   "execution_count": 33,
   "metadata": {},
   "outputs": [
    {
     "data": {
      "text/plain": [
       "140440633988.7145"
      ]
     },
     "execution_count": 33,
     "metadata": {},
     "output_type": "execute_result"
    }
   ],
   "source": [
    "Lr.intercept_ # a_0"
   ]
  },
  {
   "cell_type": "code",
   "execution_count": 34,
   "metadata": {},
   "outputs": [
    {
     "data": {
      "text/plain": [
       "array([ 0.00000000e+00, -3.80897578e+05,  2.58263866e-01])"
      ]
     },
     "execution_count": 34,
     "metadata": {},
     "output_type": "execute_result"
    }
   ],
   "source": [
    "Lr.coef_ #[Nan, a_1,a_2]"
   ]
  },
  {
   "cell_type": "code",
   "execution_count": 35,
   "metadata": {},
   "outputs": [
    {
     "data": {
      "text/plain": [
       "0.9854383426626103"
      ]
     },
     "execution_count": 35,
     "metadata": {},
     "output_type": "execute_result"
    }
   ],
   "source": [
    "Lr.score(X_test_poly, y_test) # R-squared of testing dataset"
   ]
  },
  {
   "cell_type": "code",
   "execution_count": 36,
   "metadata": {},
   "outputs": [
    {
     "data": {
      "image/png": "[encoded data removed]",
      "text/plain": [
       "<Figure size 1440x504 with 1 Axes>"
      ]
     },
     "metadata": {
      "needs_background": "light"
     },
     "output_type": "display_data"
    }
   ],
   "source": [
    "plt.figure(figsize= (20,7))\n",
    "plt.plot(X, Lr.predict(poly_model.fit_transform(X)), color = \"red\")\n",
    "plt.plot(X, y)\n",
    "plt.title(\"Polynomail regression\")\n",
    "plt.ylabel(\"Positive cases\")\n",
    "plt.xlabel(\"Date\")\n",
    "plt.gca().yaxis.set_major_formatter(FormatStrFormatter('%dk'))\n",
    "# To change days to date \n",
    "days = [737400,737500,737600,737700]\n",
    "date = ['2020-03-10','2020-06-20','2020-10-01','2021-01-05']\n",
    "\n",
    "plt.xticks(days, date, rotation = \"vertical\")\n",
    "plt.show()"
   ]
  },
  {
   "cell_type": "markdown",
   "metadata": {},
   "source": [
    "From the above figure, the polynomial regression model is far better than the linear regression model because the fitting of polynomial regression in the graph is very close to the normal line.  "
   ]
  },
  {
   "cell_type": "code",
   "execution_count": 37,
   "metadata": {},
   "outputs": [
    {
     "data": {
      "text/plain": [
       "array([ 1628.46380615, 20284.09188843])"
      ]
     },
     "execution_count": 37,
     "metadata": {},
     "output_type": "execute_result"
    }
   ],
   "source": [
    "Lr.predict(poly_model.fit_transform([[737500],[737700]])) # --> date(20-06-2020,05-1-2021))) # --> date(20-06-2020,05-1-2021)"
   ]
  },
  {
   "cell_type": "markdown",
   "metadata": {},
   "source": [
    "As we can see, in the same index of date the values from polynomial regression model are nearly matched to the non-linear data. For the date of 20-06-2020 and 05-01-2020 which are around 2.2 millon cases and 21 million cases respectively, and the values are around 1.6 million cases and 20 million cases by using the polynomial regression model. Therefore, in this case we should use polynomial regression model than linear regression model."
   ]
  },
  {
   "cell_type": "markdown",
   "metadata": {},
   "source": [
    "### Comparison between Linear regression and Polynomial regression model"
   ]
  },
  {
   "cell_type": "code",
   "execution_count": 38,
   "metadata": {},
   "outputs": [
    {
     "data": {
      "image/png": "[encoded data removed]",
      "text/plain": [
       "<Figure size 1440x504 with 1 Axes>"
      ]
     },
     "metadata": {
      "needs_background": "light"
     },
     "output_type": "display_data"
    }
   ],
   "source": [
    "plt.figure(figsize= (20,7))\n",
    "\n",
    "fig1 = plt.figure(1)\n",
    "fig1.text(0.45, 0.885, \"Linear\", ha=\"center\", va=\"bottom\", size=\"large\",color=\"blue\")\n",
    "fig1.text(0.475, 0.885, \"and\", ha=\"center\", va=\"bottom\", size=\"large\")\n",
    "fig1.text(0.512,0.885,\"Polynomial\", ha=\"center\", va=\"bottom\", size=\"large\",color=\"red\")\n",
    "fig1.text(0.56,0.885, \"regression\", ha=\"center\", va=\"bottom\", size=\"large\")\n",
    "\n",
    "plt.plot(X, Linear_model.predict(X), color = \"blue\")\n",
    "plt.plot(X, Lr.predict(poly_model.fit_transform(X)), color = \"red\")\n",
    "plt.plot(X, y, color = \"black\", linewidth=0.5)\n",
    "plt.ylabel(\"Positive cases\")\n",
    "plt.xlabel(\"Date\")\n",
    "plt.gca().yaxis.set_major_formatter(FormatStrFormatter('%dk'))\n",
    "# To change days to date \n",
    "days = [737400,737500,737600,737700]\n",
    "date = ['2020-03-10','2020-06-20','2020-10-01','2021-01-05']\n",
    "\n",
    "plt.xticks(days, date, rotation = \"vertical\")\n",
    "plt.show()"
   ]
  },
  {
   "cell_type": "markdown",
   "metadata": {},
   "source": [
    "In conclusion, for the non-linear data outputs, we should to use polynomial regression than linear regression model for fitting the data."
   ]
  },
  {
   "cell_type": "markdown",
   "metadata": {},
   "source": [
    "---\n",
    "#### Thank you for reading, this is about my project that I try using the sckit-learn for improving skill as data scientist "
   ]
  }
 ],
 "metadata": {
  "interpreter": {
   "hash": "05adf4148df8ff1a30a97a5fdced0c6aa089322b69339fda9c5532a93c99b1d9"
  },
  "kernelspec": {
   "display_name": "Python 3.8.8 ('base')",
   "language": "python",
   "name": "python3"
  },
  "language_info": {
   "codemirror_mode": {
    "name": "ipython",
    "version": 3
   },
   "file_extension": ".py",
   "mimetype": "text/x-python",
   "name": "python",
   "nbconvert_exporter": "python",
   "pygments_lexer": "ipython3",
   "version": "3.8.8"
  },
  "orig_nbformat": 4
 },
 "nbformat": 4,
 "nbformat_minor": 2
}
